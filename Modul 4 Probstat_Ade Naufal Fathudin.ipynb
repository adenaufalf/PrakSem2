{
 "cells": [
  {
   "cell_type": "code",
   "execution_count": 1,
   "id": "d6ddd9dd-e124-495b-b502-e29e8cf66b3c",
   "metadata": {},
   "outputs": [
    {
     "name": "stdout",
     "output_type": "stream",
     "text": [
      "Probabilitas P(X=k) untuk distribusi binomial: 0.1171875\n"
     ]
    }
   ],
   "source": [
    "import math\n",
    "\n",
    "# Fungsi untuk menghitung kombinasi (n choose k)\n",
    "def kombinasi(n, k):\n",
    "    return math.factorial(n) / (math.factorial(k) * math.factorial(n - k))\n",
    "\n",
    "# Fungsi untuk menghitung probabilitas P(X=k) dalam distribusi binomial\n",
    "def probabilitas_binomial(n, k, p):\n",
    "    return kombinasi(n, k) * (p ** k) * ((1 - p) ** (n - k))\n",
    "\n",
    "# Parameter distribusi binomial\n",
    "n = 10      # jumlah percobaan\n",
    "p = 0.5     # probabilitas keberhasilan dalam satu percobaan\n",
    "k = 3       # jumlah keberhasilan yang diinginkan\n",
    "\n",
    "# Menghitung probabilitas P(X=k) untuk distribusi binomial\n",
    "hasil_probabilitas = probabilitas_binomial(n, k, p)\n",
    "print(\"Probabilitas P(X=k) untuk distribusi binomial:\", hasil_probabilitas)\n"
   ]
  },
  {
   "cell_type": "code",
   "execution_count": 2,
   "id": "60ce3c20-e915-4cf5-aca5-39722577a565",
   "metadata": {},
   "outputs": [
    {
     "name": "stdout",
     "output_type": "stream",
     "text": [
      "Probabilitas P(X=k) untuk distribusi binomial: 0.1171875\n"
     ]
    }
   ],
   "source": [
    "from scipy.stats import binom\n",
    "\n",
    "# Distribusi Binomial\n",
    "n = 10      # jumlah percobaan\n",
    "p = 0.5     # probabilitas keberhasilan dalam satu percobaan\n",
    "k = 3       # jumlah keberhasilan yang diinginkan\n",
    "\n",
    "prob_binomial = binom.pmf(k, n, p)\n",
    "print(\"Probabilitas P(X=k) untuk distribusi binomial:\", prob_binomial)\n"
   ]
  },
  {
   "cell_type": "code",
   "execution_count": 3,
   "id": "c3f2d69c-ae9e-4ba2-9173-b877c3790acb",
   "metadata": {},
   "outputs": [
    {
     "name": "stdout",
     "output_type": "stream",
     "text": [
      "Probabilitas P(X = k) untuk distribusi Poisson: 0.22404180765538775\n"
     ]
    }
   ],
   "source": [
    "import math\n",
    "\n",
    "# Fungsi untuk menghitung probabilitas P(X = k) dalam distribusi Poisson\n",
    "def poisson_probability(lambd, k):\n",
    "    return (lambd ** k) * math.exp(-lambd) / math.factorial(k)\n",
    "\n",
    "# Parameter distribusi Poisson\n",
    "lambd = 3    # rata-rata jumlah peristiwa dalam interval waktu/titik\n",
    "k = 2        # jumlah peristiwa yang diinginkan\n",
    "\n",
    "# Menghitung probabilitas P(X = k) untuk distribusi Poisson\n",
    "prob_poisson = poisson_probability(lambd, k)\n",
    "print(\"Probabilitas P(X = k) untuk distribusi Poisson:\", prob_poisson)\n"
   ]
  },
  {
   "cell_type": "code",
   "execution_count": 4,
   "id": "3e12ec19-c943-4cea-be91-947c1e61ca51",
   "metadata": {},
   "outputs": [
    {
     "name": "stdout",
     "output_type": "stream",
     "text": [
      "Probabilitas P(X = k) untuk distribusi Poisson: 0.22404180765538775\n"
     ]
    }
   ],
   "source": [
    "from scipy.stats import poisson\n",
    "\n",
    "# Distribusi Poisson\n",
    "lambd = 3   # rata-rata jumlah peristiwa dalam interval waktu/titik\n",
    "k = 2       # jumlah peristiwa yang diinginkan\n",
    "\n",
    "prob_poisson = poisson.pmf(k, lambd)\n",
    "print(\"Probabilitas P(X = k) untuk distribusi Poisson:\", prob_poisson)\n"
   ]
  },
  {
   "cell_type": "code",
   "execution_count": 5,
   "id": "0e909212-58e0-4d11-8191-13c7eb69eb8c",
   "metadata": {},
   "outputs": [
    {
     "name": "stdout",
     "output_type": "stream",
     "text": [
      "0.1285054390988551\n"
     ]
    }
   ],
   "source": [
    "from scipy import stats\n",
    "\n",
    "X = stats.binom(15, 0.1)\n",
    "print(X.pmf(3))    # P(X = 3)\n"
   ]
  },
  {
   "cell_type": "code",
   "execution_count": 6,
   "id": "49e9bbb2-d33f-4627-971f-c724c2203a96",
   "metadata": {},
   "outputs": [
    {
     "name": "stdout",
     "output_type": "stream",
     "text": [
      "0.8159389308936089\n"
     ]
    }
   ],
   "source": [
    "print(X.cdf(2))    # P(X ≤ 2)"
   ]
  },
  {
   "cell_type": "code",
   "execution_count": 7,
   "id": "7646313f-a1d7-4514-af9a-1fbfb34a1b7b",
   "metadata": {},
   "outputs": [
    {
     "name": "stdout",
     "output_type": "stream",
     "text": [
      "0.002216045197080002\n"
     ]
    }
   ],
   "source": [
    "print(X.pmf(6) + X.pmf(7))"
   ]
  },
  {
   "cell_type": "code",
   "execution_count": 8,
   "id": "351a4ed8-9daa-46fe-9bea-405c12df32cb",
   "metadata": {},
   "outputs": [
    {
     "name": "stdout",
     "output_type": "stream",
     "text": [
      "0.17546736976785063\n"
     ]
    }
   ],
   "source": [
    "from scipy import stats\n",
    "\n",
    "Y = stats.poisson(5)\n",
    "print(Y.pmf(4))  # P(Y = 4)"
   ]
  },
  {
   "cell_type": "code",
   "execution_count": 9,
   "id": "996c6596-db42-422c-8a12-0cad1335fc49",
   "metadata": {},
   "outputs": [
    {
     "name": "stdout",
     "output_type": "stream",
     "text": [
      "0.17886305056987967\n"
     ]
    }
   ],
   "source": [
    "from scipy import stats\n",
    "\n",
    "# Mendefinisikan variabel X sebagai distribusi binomial dengan 20 percobaan dan probabilitas sukses 0.7\n",
    "X = stats.binom(20, 0.7)\n",
    "\n",
    "# Menghitung probabilitas massa X sama dengan 15\n",
    "pmf_15 = X.pmf(15)\n",
    "\n",
    "# Mencetak nilai probabilitas\n",
    "print(pmf_15)\n"
   ]
  },
  {
   "cell_type": "code",
   "execution_count": 10,
   "id": "6d740c8e-77b6-489a-ab11-01af69ad6ba5",
   "metadata": {},
   "outputs": [
    {
     "name": "stdout",
     "output_type": "stream",
     "text": [
      "0.18044704431548356\n"
     ]
    }
   ],
   "source": [
    "from scipy import stats\n",
    "\n",
    "Y = stats.poisson(2)\n",
    "\n",
    "print(Y.pmf(3))  # P(Y = 3)\n"
   ]
  },
  {
   "cell_type": "code",
   "execution_count": null,
   "id": "678ea2d0-73e2-4f76-9cf9-edf984b5698d",
   "metadata": {},
   "outputs": [],
   "source": []
  }
 ],
 "metadata": {
  "kernelspec": {
   "display_name": "Python 3 (ipykernel)",
   "language": "python",
   "name": "python3"
  },
  "language_info": {
   "codemirror_mode": {
    "name": "ipython",
    "version": 3
   },
   "file_extension": ".py",
   "mimetype": "text/x-python",
   "name": "python",
   "nbconvert_exporter": "python",
   "pygments_lexer": "ipython3",
   "version": "3.12.7"
  }
 },
 "nbformat": 4,
 "nbformat_minor": 5
}
