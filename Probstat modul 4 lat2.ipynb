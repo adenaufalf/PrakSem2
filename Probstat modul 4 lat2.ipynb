{
 "cells": [
  {
   "cell_type": "code",
   "execution_count": 1,
   "id": "3ab901b9-7e9e-4d7b-b7ca-296272b0271e",
   "metadata": {},
   "outputs": [
    {
     "name": "stdout",
     "output_type": "stream",
     "text": [
      "0.20613038097752093\n"
     ]
    }
   ],
   "source": [
    "from scipy import stats\n",
    "x = stats.binom(15, 0.3)\n",
    "print (x.pmf(5))"
   ]
  },
  {
   "cell_type": "code",
   "execution_count": null,
   "id": "7d773680-c8f9-468f-8139-adff1ac79c07",
   "metadata": {},
   "outputs": [],
   "source": []
  }
 ],
 "metadata": {
  "kernelspec": {
   "display_name": "Python 3 (ipykernel)",
   "language": "python",
   "name": "python3"
  },
  "language_info": {
   "codemirror_mode": {
    "name": "ipython",
    "version": 3
   },
   "file_extension": ".py",
   "mimetype": "text/x-python",
   "name": "python",
   "nbconvert_exporter": "python",
   "pygments_lexer": "ipython3",
   "version": "3.12.7"
  }
 },
 "nbformat": 4,
 "nbformat_minor": 5
}
